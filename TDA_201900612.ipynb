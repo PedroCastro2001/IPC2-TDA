{
  "nbformat": 4,
  "nbformat_minor": 0,
  "metadata": {
    "colab": {
      "name": "TDA.ipynb",
      "provenance": [],
      "authorship_tag": "ABX9TyOnhaYHceVDanCom3r6EybI",
      "include_colab_link": true
    },
    "kernelspec": {
      "name": "python3",
      "display_name": "Python 3"
    }
  },
  "cells": [
    {
      "cell_type": "markdown",
      "metadata": {
        "id": "view-in-github",
        "colab_type": "text"
      },
      "source": [
        "<a href=\"https://colab.research.google.com/github/PedroCastro2001/IPC2-TDA/blob/main/TDA_201900612.ipynb\" target=\"_parent\"><img src=\"https://colab.research.google.com/assets/colab-badge.svg\" alt=\"Open In Colab\"/></a>"
      ]
    },
    {
      "cell_type": "markdown",
      "metadata": {
        "id": "Inde0oxnc2I4"
      },
      "source": [
        "**Ejercicio de Listas Enlazadas**"
      ]
    },
    {
      "cell_type": "code",
      "metadata": {
        "id": "m6SSXK_BeLFN"
      },
      "source": [
        "class cliente:\n",
        "  def __init__(self, nombre, no_habitacion):\n",
        "    self.nombre = nombre\n",
        "    self.no_habitacion = no_habitacion"
      ],
      "execution_count": 2,
      "outputs": []
    },
    {
      "cell_type": "code",
      "metadata": {
        "id": "ImNOFaHvWHB-"
      },
      "source": [
        "class node:\n",
        "  def __init__(self, cliente=None, next=None):\n",
        "    self.cliente = cliente\n",
        "    self.next = next"
      ],
      "execution_count": 3,
      "outputs": []
    },
    {
      "cell_type": "code",
      "metadata": {
        "id": "q3PNy7FsYLG5"
      },
      "source": [
        "class linked_list:\n",
        "  def __init__(self):\n",
        "    self.head = None\n",
        "\n",
        "  def insertar(self, cliente):\n",
        "    if not self.head:\n",
        "      self.head = node(cliente=cliente)\n",
        "      return \n",
        "    current = self.head\n",
        "    while current.next:\n",
        "      current = current.next\n",
        "    current.next = node(cliente=cliente)\n",
        "\n",
        "  def imprimir(self):\n",
        "    node = self.head\n",
        "    while node != None:\n",
        "      print(node.cliente.nombre, end = \"=>\")\n",
        "      node = node.next\n",
        "\n",
        "  def eliminar(self, no_habitacion):\n",
        "    current = self.head\n",
        "    previous = None\n",
        "\n",
        "    while current and current.cliente.no_habitacion != no_habitacion:\n",
        "      previous = current\n",
        "      current = current.next\n",
        "    if previous is None:\n",
        "      self.head = current.next\n",
        "    elif current:\n",
        "      previous.next = current.next\n",
        "      current.next = None"
      ],
      "execution_count": 6,
      "outputs": []
    },
    {
      "cell_type": "code",
      "metadata": {
        "id": "4U9YtGMkcxif"
      },
      "source": [
        "c1 = cliente(\"Estuardo Zapeta\", 101)\n",
        "c2 = cliente(\"Marco López\", 103)\n",
        "c3 = cliente(\"Josué Armas\", 204)\n",
        "c4 = cliente(\"Gladys Olmos\", 302)"
      ],
      "execution_count": 8,
      "outputs": []
    },
    {
      "cell_type": "code",
      "metadata": {
        "id": "k2LIy154dbix"
      },
      "source": [
        "lista = linked_list()\n",
        "lista.insertar(c1)\n",
        "lista.insertar(c2)\n",
        "lista.insertar(c3)\n",
        "lista.insertar(c4)"
      ],
      "execution_count": 9,
      "outputs": []
    },
    {
      "cell_type": "code",
      "metadata": {
        "colab": {
          "base_uri": "https://localhost:8080/"
        },
        "id": "x2nk62xKe1Lm",
        "outputId": "9ac05122-73b0-430a-b078-a432595ee099"
      },
      "source": [
        "lista.imprimir()"
      ],
      "execution_count": 10,
      "outputs": [
        {
          "output_type": "stream",
          "text": [
            "Estuardo Zapeta=>Marco López=>Josué Armas=>Gladys Olmos=>"
          ],
          "name": "stdout"
        }
      ]
    },
    {
      "cell_type": "code",
      "metadata": {
        "id": "FDrCGw5FkwvI"
      },
      "source": [
        "lista.eliminar(204)"
      ],
      "execution_count": 11,
      "outputs": []
    },
    {
      "cell_type": "code",
      "metadata": {
        "colab": {
          "base_uri": "https://localhost:8080/"
        },
        "id": "sWxFj4QHnXIW",
        "outputId": "56121c14-79e8-461f-e6c0-d268fc7124ea"
      },
      "source": [
        "lista.imprimir()"
      ],
      "execution_count": 12,
      "outputs": [
        {
          "output_type": "stream",
          "text": [
            "Estuardo Zapeta=>Marco López=>Gladys Olmos=>"
          ],
          "name": "stdout"
        }
      ]
    },
    {
      "cell_type": "markdown",
      "metadata": {
        "id": "5A_TP7zVoUtD"
      },
      "source": [
        "**Ejercicio de Listas Circulares**"
      ]
    },
    {
      "cell_type": "code",
      "metadata": {
        "id": "OoIW-mWAoanH"
      },
      "source": [
        "class linked_list_circular:\n",
        "  def __init__(self,head=None):\n",
        "    self.head = head\n",
        "    self.size = 0\n",
        "\n",
        "  def insertar(self, cliente):\n",
        "    if self.size == 0:\n",
        "      self.head = node(cliente=cliente)\n",
        "      self.head.next = self.head\n",
        "    else:\n",
        "      new_node = node(cliente=cliente, next=self.head.next)\n",
        "      self.head.next = new_node\n",
        "    self.size += 1  \n",
        "\n",
        "  def imprimir (self):\n",
        "    if self.head is None:\n",
        "      return\n",
        "    node = self.head\n",
        "    print(node.cliente.nombre, end = \" => \")\n",
        "    while node.next != self.head:\n",
        "      node = node.next\n",
        "      print(node.cliente.nombre, end = \" => \")\n",
        "\n",
        "  def eliminar (self, no_habitacion):\n",
        "    node = self.head\n",
        "    previous = None\n",
        "\n",
        "    while True:\n",
        "      if node.cliente:no_habitacion == no_habitacion:\n",
        "        if previous is not None:\n",
        "          previous.next = node.next\n",
        "        else:\n",
        "          while\n",
        "\n",
        "      previous = node\n",
        "      node = node.next"
      ],
      "execution_count": 18,
      "outputs": []
    },
    {
      "cell_type": "code",
      "metadata": {
        "id": "Jz0LatH6RFyQ"
      },
      "source": [
        "lista_c = linked_list_circular()\n",
        "lista_c.insertar(c1)\n",
        "lista_c.insertar(c2)\n",
        "lista_c.insertar(c3)\n",
        "lista_c.insertar(c4)"
      ],
      "execution_count": 19,
      "outputs": []
    },
    {
      "cell_type": "code",
      "metadata": {
        "colab": {
          "base_uri": "https://localhost:8080/"
        },
        "id": "c_o1fp9jUaQB",
        "outputId": "dc8ca174-d2f8-4dbc-94ac-1f6e8f858431"
      },
      "source": [
        "lista_c.imprimir()"
      ],
      "execution_count": 20,
      "outputs": [
        {
          "output_type": "stream",
          "text": [
            "Estuardo Zapeta => Gladys Olmos => Josué Armas => Marco López => "
          ],
          "name": "stdout"
        }
      ]
    }
  ]
}